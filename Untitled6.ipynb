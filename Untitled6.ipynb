{
  "nbformat": 4,
  "nbformat_minor": 0,
  "metadata": {
    "colab": {
      "name": "Untitled6.ipynb",
      "provenance": [],
      "collapsed_sections": [],
      "authorship_tag": "ABX9TyPRzX43IJkPIC/pTdFvC6FD",
      "include_colab_link": true
    },
    "kernelspec": {
      "name": "python3",
      "display_name": "Python 3"
    },
    "language_info": {
      "name": "python"
    }
  },
  "cells": [
    {
      "cell_type": "markdown",
      "metadata": {
        "id": "view-in-github",
        "colab_type": "text"
      },
      "source": [
        "<a href=\"https://colab.research.google.com/github/xodud5654/firstweb/blob/main/Untitled6.ipynb\" target=\"_parent\"><img src=\"https://colab.research.google.com/assets/colab-badge.svg\" alt=\"Open In Colab\"/></a>"
      ]
    },
    {
      "cell_type": "code",
      "metadata": {
        "id": "JbRubfh9o2rU"
      },
      "source": [
        "### Python module 3. **pandas**"
      ],
      "execution_count": null,
      "outputs": []
    },
    {
      "cell_type": "code",
      "metadata": {
        "id": "y0vK7ZHRo9Mk"
      },
      "source": [
        "import pandas as pd"
      ],
      "execution_count": null,
      "outputs": []
    },
    {
      "cell_type": "markdown",
      "metadata": {
        "id": "dppb4YdCpMEb"
      },
      "source": [
        "### 1차원 series용도###  \n",
        "- 2차원 데이터프레임의 열을 구성\n",
        "\n"
      ]
    },
    {
      "cell_type": "markdown",
      "metadata": {
        "id": "08Bome2hpqye"
      },
      "source": [
        "### Handling DataFrame\n",
        "- head()\n",
        "- tail()\n",
        "- describe()\n",
        "- info()"
      ]
    },
    {
      "cell_type": "code",
      "metadata": {
        "id": "XRmBMZiTpnDA"
      },
      "source": [
        "dates = pd.date_range('20210927', periods=6)"
      ],
      "execution_count": null,
      "outputs": []
    },
    {
      "cell_type": "code",
      "metadata": {
        "id": "jU2-Ni9Cp7Qk"
      },
      "source": [
        "# head()\n",
        "df = pd.DataFrame(np.random.randn(6,4), index=dates, columns=list('ABCD'))\n",
        "df.head()   #상위 5개 표시\n",
        "df.head(2)  #상위 2개 표시\n",
        "df.tail(3)  #하위 3개 표시\n",
        "df.index    #index 표시\n",
        "df.columns  #columns 표시\n",
        "df.info()   #dataframe 설명\n",
        "df.describe() #dataframe 전반적인 계산(count,mean,std,min,max....)\n",
        "df.describe().T #전치 행렬로 표시\n",
        "df.T            #dataframe 전치 행렬 표시\n",
        "df.T.index      #전치 행렬의 인덱스 표시"
      ],
      "execution_count": null,
      "outputs": []
    },
    {
      "cell_type": "markdown",
      "metadata": {
        "id": "d8HOWsoRrLN3"
      },
      "source": [
        "#### Sort by index\n",
        "- sort_index(axis=0, ascending=False)\n",
        "- sort_index(axis=1, ascending=False)\n",
        "\n",
        "> Axis=0 Column-Wise Operation (수직으로)\n",
        "\n",
        "> Axis=1 Row-Wise Operation (수평으로)\n",
        "> ascending = False(고->저), True(저->고)"
      ]
    },
    {
      "cell_type": "code",
      "metadata": {
        "id": "UzZQZRAVqKDk"
      },
      "source": [
        "df.sort_index(axis=0) # 인섹스를 수직으로 정렬\n",
        "df.sort_index(axis=1)\n",
        "df.sort_values(by='B')  #B에 대해서 정렬"
      ],
      "execution_count": null,
      "outputs": []
    },
    {
      "cell_type": "markdown",
      "metadata": {
        "id": "_eOwH7U3zEp2"
      },
      "source": [
        "#### Selecting data by indexing and slicing\n",
        "- indexing\n",
        "- slicing"
      ]
    },
    {
      "cell_type": "code",
      "metadata": {
        "id": "_gSg8odpzFVF"
      },
      "source": [
        "df['A'] #A라는 칼럼 출력\n",
        "df[0:3] #인덱스 0-2까지 출력\n",
        "df['20200928':'20201001'] #인덱스 범위가 아닌 인덱스 이름으로 범위 지정"
      ],
      "execution_count": null,
      "outputs": []
    },
    {
      "cell_type": "code",
      "metadata": {
        "id": "iqJ2IMh9zXFv"
      },
      "source": [
        "df.loc[dates[0]] #0번쨰 인덱스 값 출력\n",
        "df.loc[:,['A','B']] #전체를 출력하되, a/b만"
      ],
      "execution_count": null,
      "outputs": []
    },
    {
      "cell_type": "markdown",
      "metadata": {
        "id": "gIPiq1-d0iIT"
      },
      "source": [
        "#### Selecting data by position (iloc())\n",
        "- index 사용"
      ]
    },
    {
      "cell_type": "code",
      "metadata": {
        "id": "lTb7_sRQ0jnr"
      },
      "source": [
        "df.iloc[3]  #3번째 인덱스 출력\n",
        "df.iloc[:2,2:4] #인덱스 1까지 출력하되 칼럼 2,3만"
      ],
      "execution_count": null,
      "outputs": []
    },
    {
      "cell_type": "markdown",
      "metadata": {
        "id": "LGAeLaOS0ynH"
      },
      "source": [
        "#### Selecting data by Boolean indexing"
      ]
    },
    {
      "cell_type": "code",
      "metadata": {
        "id": "qfLD49nF01qN"
      },
      "source": [
        "df[df.A > 0] # df A에서 0보다 큰값만\n",
        "df[df > 0]    #df에서 0보다 큰값만"
      ],
      "execution_count": null,
      "outputs": []
    },
    {
      "cell_type": "markdown",
      "metadata": {
        "id": "ONV-UBHm008l"
      },
      "source": [
        "### 데이터 재구성(setting) 또는 확장"
      ]
    },
    {
      "cell_type": "code",
      "metadata": {
        "id": "oJQimbos1Y5g"
      },
      "source": [
        "s1 = pd.Series([1,2,3,4,5,6], index=pd.date_range('20210927', periods=6))\n",
        "df['F'] = s1\n",
        "#데이터를 만들에 새로운 칼럼에 값 추가하기"
      ],
      "execution_count": null,
      "outputs": []
    },
    {
      "cell_type": "markdown",
      "metadata": {
        "id": "UML7trG31iFv"
      },
      "source": [
        "#### Setting data by label & its index\n",
        "\n",
        "> **at, iat**\n",
        "\n",
        "- at : label을 이용하여 값 지정\n",
        "- iat: index를 이용하여 값 지정"
      ]
    },
    {
      "cell_type": "code",
      "metadata": {
        "id": "zw5wVuuz1j-h"
      },
      "source": [
        "df.at[dates[0],'A'] = 0 # 인덱스 첫번째의 A부분에 0으로 바꿈\n",
        "df.iat[0,1] = 0   #인덱스 입력하여 데이터 바꾸기 0번째인덱스의 1번째 값"
      ],
      "execution_count": null,
      "outputs": []
    },
    {
      "cell_type": "markdown",
      "metadata": {
        "id": "vmnPcJd819GP"
      },
      "source": [
        "### Missing data 처리\n",
        "> pandas primarily uses the value **np.nan** to represent missing data. \n",
        "- dropna()\n",
        "- fillna()\n",
        "- isna()"
      ]
    },
    {
      "cell_type": "code",
      "metadata": {
        "id": "4YN-DSID2M81"
      },
      "source": [
        "df1.isnull().sum()  #NAN값 칼럼별로 합\n",
        "df1.isna().sum()"
      ],
      "execution_count": null,
      "outputs": []
    },
    {
      "cell_type": "code",
      "metadata": {
        "id": "JkQNKDNx2WTr"
      },
      "source": [
        "df1.dropna(how='any') #nan값을 가진 부분 삭제(any는 전체)\n",
        "df1.fillna(value=5)   #nan값을 가진 부분에 값 채우기\n",
        "pd.isna(df1)          #nan값 boolean으로 표현"
      ],
      "execution_count": null,
      "outputs": []
    },
    {
      "cell_type": "markdown",
      "metadata": {
        "id": "xSvn3SrH2r8j"
      },
      "source": [
        "### 데이터 통계 (Statistics)"
      ]
    },
    {
      "cell_type": "code",
      "metadata": {
        "id": "jHm8PqBD2tvR"
      },
      "source": [
        "df.mean()\n",
        "df.mean(0)  #칼럼 별로 평균\n",
        "df.mean(1)  #인덱스 별로 평균\n",
        "\n",
        "df.std(0)   \n",
        "df.std(1)"
      ],
      "execution_count": null,
      "outputs": []
    },
    {
      "cell_type": "markdown",
      "metadata": {
        "id": "3iQEizzh3ERS"
      },
      "source": [
        "#### [도전] 데이터프레임 df의 평균(mean(0))과 표준편차를 이용한 그래프\n",
        "- 평균에 대한 꺽은선그래프\n",
        "- 평균과 표준편차를 이용한 막대그래프\n",
        "> x-축은 A,B,C,D,E"
      ]
    },
    {
      "cell_type": "code",
      "metadata": {
        "id": "okiyRKba3Hn1"
      },
      "source": [
        "import numpy as np\n",
        "import matplotlib.pyplot as plt\n",
        "\n",
        "means = [1, 2, 3]\n",
        "stddevs = [0.2, 0.4, 0.5]\n",
        "bar_labels = ['bar 1', 'bar 2', 'bar 3']\n",
        "\n",
        "# plot bars\n",
        "x_pos = list(range(len(bar_labels)))\n",
        "plt.bar(x_pos, means, yerr=stddevs)\n",
        "\n",
        "plt.show()\n",
        "plt.plot(df.mean(0), '-o', ms=8)\n",
        "\n",
        "# df의 평균(mean(0))과 표준편차를 이용한 막대그래프\n",
        "bar_labels = df.columns\n",
        "# plot bars\n",
        "plt.bar(bar_labels, df.mean(0), yerr=df.std(0)) #, color='rgbcy')"
      ],
      "execution_count": null,
      "outputs": []
    },
    {
      "cell_type": "markdown",
      "metadata": {
        "id": "OdUEp6Fu3h2g"
      },
      "source": [
        "# 데이터 시각화"
      ]
    },
    {
      "cell_type": "code",
      "metadata": {
        "id": "KfPYnPUd3lyC"
      },
      "source": [
        "#꺽은선 그래프\n",
        "df['A'].plot(marker='o', c='r', ms=8)\n",
        "df['C'].plot(marker='D', c='g', ms=8)  # set figsize\n",
        "df.plot(y='D', marker='*', c='r', ms=12)   # x-축은 날짜인덱스"
      ],
      "execution_count": null,
      "outputs": []
    },
    {
      "cell_type": "code",
      "metadata": {
        "id": "LHZUTnJ8pD3h"
      },
      "source": [
        "#산포도(scatter)\n",
        "df.plot(kind='scatter',x='C',y='A', color='r', marker='o', s=32) "
      ],
      "execution_count": null,
      "outputs": []
    },
    {
      "cell_type": "code",
      "metadata": {
        "id": "Qir8yDJkpMwV"
      },
      "source": [
        "#바(bar)\n",
        "df['A'].plot.bar()\n",
        "df.plot(kind='bar', y='D')"
      ],
      "execution_count": null,
      "outputs": []
    },
    {
      "cell_type": "code",
      "metadata": {
        "id": "8pTg6CEspUg7"
      },
      "source": [
        "#다중 바(multi bar)\n",
        "df.plot(kind='bar',y=['A','C','D'])"
      ],
      "execution_count": null,
      "outputs": []
    },
    {
      "cell_type": "markdown",
      "metadata": {
        "id": "4K6gGTi2pjkS"
      },
      "source": [
        "#### pandas 데이터프레임을 이용한 그래프 "
      ]
    },
    {
      "cell_type": "code",
      "metadata": {
        "id": "kJNztNVqplRm"
      },
      "source": [
        "plt.figure(figsize=(10,5))\n",
        "plt.plot(np.arange(0, len(pre)), pre, 'g', label=\"pre\")\n",
        "plt.plot(np.arange(len(pre), len(pre) + len(post)), post, 'b', marker='.', label=\"post\")\n",
        "plt.plot(np.arange(len(pre), len(pre) + len(post)), post2, 'r', label=\"post2\")\n",
        "plt.ylabel('Value')\n",
        "plt.xlabel('Time Step')\n",
        "plt.legend()\n",
        "plt.show()"
      ],
      "execution_count": null,
      "outputs": []
    },
    {
      "cell_type": "code",
      "metadata": {
        "id": "9rJZBfj1r4vP"
      },
      "source": [
        "#histogram\n",
        "plt.rcParams['figure.figsize'] = [12, 10]; # set the figure size \n",
        "\n",
        "data.hist()\n",
        "plt.show()"
      ],
      "execution_count": null,
      "outputs": []
    },
    {
      "cell_type": "code",
      "metadata": {
        "id": "RcdvVMjer8_V"
      },
      "source": [
        "#density plot\n",
        "data.plot(kind='density', subplots=True, layout=(3,3), sharex=False)\n",
        "plt.show()"
      ],
      "execution_count": null,
      "outputs": []
    },
    {
      "cell_type": "code",
      "metadata": {
        "id": "RQF18lBvsGa7"
      },
      "source": [
        "#box plot\n",
        "data.plot(kind= 'box', subplots=True, layout=(3,3), sharex=False, sharey=False)\n",
        "plt.show()"
      ],
      "execution_count": null,
      "outputs": []
    },
    {
      "cell_type": "code",
      "metadata": {
        "id": "PhidBX4NsRFo"
      },
      "source": [
        "correlations = data.corr(method = 'pearson') # corr 연관성"
      ],
      "execution_count": null,
      "outputs": []
    },
    {
      "cell_type": "code",
      "metadata": {
        "id": "GHcHqK2CsfnQ"
      },
      "source": [
        "#scatter plot matrix\n",
        "from pandas.plotting import scatter_matrix\n",
        "plt.rcParams['figure.figsize'] = [12, 12]\n",
        "\n",
        "# Plotting Scatterplot Matrix\n",
        "scatter_matrix(data)\n",
        "plt.show()"
      ],
      "execution_count": null,
      "outputs": []
    },
    {
      "cell_type": "code",
      "metadata": {
        "id": "n8Fciexssmrl"
      },
      "source": [
        "#seaborn - heatmap\n",
        "import seaborn as sns\n",
        "sns.heatmap(correlations, \n",
        "        xticklabels=data.columns,\n",
        "        yticklabels=data.columns,\n",
        "        vmin= -1, vmax=1.0)\n",
        "plt.show()"
      ],
      "execution_count": null,
      "outputs": []
    }
  ]
}